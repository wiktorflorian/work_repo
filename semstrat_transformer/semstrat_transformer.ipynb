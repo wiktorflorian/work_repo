{
 "cells": [
  {
   "attachments": {},
   "cell_type": "markdown",
   "metadata": {},
   "source": [
    "# Semstrat transformer\n",
    "\n",
    "The semstrat Transformer is a script designed to transform Semstrat, a budgeting file. By converting this script into a function, it can be adapted to process other budgeting files as well, offering increased flexibility and versality."
   ]
  },
  {
   "attachments": {},
   "cell_type": "markdown",
   "metadata": {},
   "source": [
    "## Arguments which could be possibly passed to a function.\n",
    "\n",
    "+ excel_file\n",
    "+ sheet_name\n",
    "+ rows_to_skip\n",
    "+ header_rows"
   ]
  },
  {
   "cell_type": "code",
   "execution_count": 18,
   "metadata": {},
   "outputs": [],
   "source": [
    "import config as c\n",
    "import pandas as pd\n",
    "import re\n",
    "from datetime import datetime\n",
    "\n",
    "# File path and sheet name\n",
    "excel_file = c.excel_file\n",
    "sheet_name = c.sheet_name\n",
    "rows_to_skip = 20\n",
    "header_rows = 3\n",
    "header_rows_list = [x for x in range(header_rows)]\n",
    "\n",
    "# Reading excel file\n",
    "df = pd.read_excel(excel_file, sheet_name=sheet_name, header=header_rows_list, skiprows=rows_to_skip)\n",
    "\n",
    "# Keeping lvl 0 headers\n",
    "lvl0_headers_to_keep = ['BASIC DATA', 'VOLUMES', 'UNIT PRICES', 'GROSS SALE', 'DISCOUNTS (incl. OCA)', 'REBATES (excl. OCA)',\n",
    "                        'OCA', 'NNS', 'UNIT COGS', 'COGS',]\n",
    "\n",
    "lvl0_headers = df.columns.get_level_values(0)\n",
    "\n",
    "mask = lvl0_headers.isin(lvl0_headers_to_keep)\n",
    "df_filtered = df.loc[:, mask]\n",
    "\n",
    "# Rename columns by joining multi-level headers and performing some replacements\n",
    "df_filtered.columns = ['_'.join(map(str, col)).replace(' ', '_').replace('BASIC_DATA_vb_', '').replace('\\n', '') for col in df_filtered.columns]\n",
    "\n",
    "# Drop columns with 'Unamed' or 'Total' in their names\n",
    "cols_to_drop = [col for col in df_filtered.columns if ('Unnamed' in col or 'Total' in col)]\n",
    "df_filtered = df_filtered.drop(columns=cols_to_drop)\n",
    "\n",
    "pattern = r\"(\\d{4})_(\\w{3})\"\n",
    "columns_to_keep = []\n",
    "\n",
    "# Extract unique years and months from column names\n",
    "years = set()\n",
    "months = set()\n",
    "for col in df_filtered.columns:\n",
    "    match = re.search(pattern, col)\n",
    "    if match:\n",
    "        year = match.group(1)\n",
    "        month = match.group(2)\n",
    "        years.add(year)\n",
    "        months.add(month)\n",
    "\n",
    "df2 = pd.DataFrame()\n",
    "for y in years:\n",
    "    for m in months:\n",
    "        columns_to_keep = []\n",
    "        # Check if column name doesn't match the pattern\n",
    "        for col in df_filtered.columns:\n",
    "            if not re.search(pattern, col):\n",
    "                columns_to_keep.append(col)\n",
    "\n",
    "        columns_to_keep.extend([col for col in df_filtered.columns if (str(y) in col and str(m) in col)])\n",
    "        df_to_append = df_filtered[columns_to_keep]\n",
    "        mask = df_to_append.isnull().all(axis=1)\n",
    "        fully_blank_rows_idx = df_to_append[mask].index\n",
    "        df_to_append = df_to_append.drop(fully_blank_rows_idx)\n",
    "        df_to_append = df_to_append.assign(period_year=int(y), period_month=m)\n",
    "        \n",
    "        column_rename_dict = {}\n",
    "        for col in df_to_append.columns:\n",
    "            if str(y) in col and str(m) in col:\n",
    "                new_col = col.split(f\"_{y}\")[0]\n",
    "                column_rename_dict[col] = new_col\n",
    "        df_to_append.rename(columns=column_rename_dict, inplace=True)\n",
    "        \n",
    "        df2 = pd.concat([df2, df_to_append])\n",
    "        #df2 = pd.concat([df2.reset_index(drop=True), df_to_append.reset_index(drop=True)])\n",
    "\n",
    "# Changing 3 first letters of month to number representation\n",
    "df2['period_month'] = df2['period_month'].apply(lambda x: datetime.strptime(x, '%b').month)\n",
    "df2.to_excel('output.xlsx', index=False)"
   ]
  },
  {
   "cell_type": "code",
   "execution_count": null,
   "metadata": {},
   "outputs": [],
   "source": []
  }
 ],
 "metadata": {
  "kernelspec": {
   "display_name": "Python 3",
   "language": "python",
   "name": "python3"
  },
  "language_info": {
   "codemirror_mode": {
    "name": "ipython",
    "version": 3
   },
   "file_extension": ".py",
   "mimetype": "text/x-python",
   "name": "python",
   "nbconvert_exporter": "python",
   "pygments_lexer": "ipython3",
   "version": "3.11.3"
  },
  "orig_nbformat": 4
 },
 "nbformat": 4,
 "nbformat_minor": 2
}
