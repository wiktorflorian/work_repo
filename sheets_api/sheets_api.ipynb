{
 "cells": [
  {
   "attachments": {},
   "cell_type": "markdown",
   "metadata": {},
   "source": [
    "# Google Sheets API"
   ]
  },
  {
   "attachments": {},
   "cell_type": "markdown",
   "metadata": {},
   "source": [
    "Project involving the Google Sheets API to save data from a Sheets file that is integrated with Forms."
   ]
  },
  {
   "attachments": {},
   "cell_type": "markdown",
   "metadata": {},
   "source": [
    "## URGO AESTHETIC ACADEMY THIRD EDITION"
   ]
  },
  {
   "cell_type": "code",
   "execution_count": 2,
   "metadata": {},
   "outputs": [
    {
     "name": "stdout",
     "output_type": "stream",
     "text": [
      "Saved DataFrame on the remote server\n"
     ]
    }
   ],
   "source": [
    "import os\n",
    "import shutil\n",
    "\n",
    "from google.oauth2 import service_account\n",
    "from googleapiclient.discovery import build\n",
    "from googleapiclient.errors import HttpError\n",
    "\n",
    "import pandas as pd\n",
    "\n",
    "# Variables\n",
    "SCOPES = ['https://www.googleapis.com/auth/spreadsheets.readonly']\n",
    "\n",
    "# Path to the JSON file downloaded for the service account\n",
    "SERVICE_ACCOUNT_FILE = 'credentials.json'\n",
    "\n",
    "# Read the configuration file\n",
    "import configparser\n",
    "config = configparser.ConfigParser()\n",
    "config.read('config_3rd.txt')\n",
    "SAMPLE_SPREADSHEET_ID = config.get('SHEET_CONFIG', \"SAMPLE_SPREADSHEET_ID\")\n",
    "SAMPLE_RANGE_NAME = config.get('SHEET_CONFIG', 'SAMPLE_RANGE_NAME')\n",
    "\n",
    "# Read the remote directory path from the text file\n",
    "with open('remote_dir.txt', 'r') as file:\n",
    "    remote_dir = file.read().strip()\n",
    "\n",
    "creds = service_account.Credentials.from_service_account_file(\n",
    "    SERVICE_ACCOUNT_FILE\n",
    ")\n",
    "\n",
    "try:\n",
    "    service = build('sheets', 'v4', credentials=creds)\n",
    "\n",
    "    # Call the Sheets API\n",
    "    sheet = service.spreadsheets()\n",
    "    result = sheet.values().get(spreadsheetId=SAMPLE_SPREADSHEET_ID,\n",
    "                                range=SAMPLE_RANGE_NAME).execute()\n",
    "    values = result.get('values', [])\n",
    "\n",
    "    if not values:\n",
    "        print('No data found.')\n",
    "    else:\n",
    "        headers = values[0]\n",
    "        data = values[1:]\n",
    "\n",
    "        # Pad the data with empty values for missing columns\n",
    "        num_missing_cols = len(headers) - len(data[0])\n",
    "        if num_missing_cols > 0:\n",
    "            for _ in range(num_missing_cols):\n",
    "                data[0].append('')  # Add empty value for each missing column\n",
    "\n",
    "        df = pd.DataFrame(data, columns=headers)\n",
    "\n",
    "        # Save the DataFrame to a local file\n",
    "        local_file_path = 'urgo_aesthetic_academy_edition_3.xlsx'\n",
    "        df.to_excel(local_file_path, index=False)\n",
    "\n",
    "        # Move the file to the remote directory\n",
    "        remote_file_path = os.path.join(remote_dir, local_file_path)\n",
    "        shutil.move(local_file_path, remote_file_path)\n",
    "\n",
    "        print('Saved DataFrame on the remote server')\n",
    "except HttpError as err:\n",
    "    print(err)\n"
   ]
  },
  {
   "attachments": {},
   "cell_type": "markdown",
   "metadata": {},
   "source": [
    "## URGO AESTHETIC ACADEMY SECOND EDITION"
   ]
  },
  {
   "cell_type": "code",
   "execution_count": 2,
   "metadata": {},
   "outputs": [
    {
     "name": "stdout",
     "output_type": "stream",
     "text": [
      "Saved DataFrame on the remote server\n"
     ]
    }
   ],
   "source": [
    "import os\n",
    "import shutil\n",
    "\n",
    "from google.oauth2 import service_account\n",
    "from googleapiclient.discovery import build\n",
    "from googleapiclient.errors import HttpError\n",
    "\n",
    "import pandas as pd\n",
    "\n",
    "# Variables\n",
    "SCOPES = ['https://www.googleapis.com/auth/spreadsheets.readonly']\n",
    "\n",
    "# Path to the JSON file downloaded for the service account\n",
    "SERVICE_ACCOUNT_FILE = 'credentials.json'\n",
    "\n",
    "# Read the configuration file\n",
    "import configparser\n",
    "config = configparser.ConfigParser()\n",
    "config.read('config_2nd.txt')\n",
    "SAMPLE_SPREADSHEET_ID = config.get('SHEET_CONFIG', \"SAMPLE_SPREADSHEET_ID\")\n",
    "SAMPLE_RANGE_NAME = config.get('SHEET_CONFIG', 'SAMPLE_RANGE_NAME')\n",
    "\n",
    "# Read the remote directory path from the text file\n",
    "with open('remote_dir.txt', 'r') as file:\n",
    "    remote_dir = file.read().strip()\n",
    "\n",
    "creds = service_account.Credentials.from_service_account_file(\n",
    "    SERVICE_ACCOUNT_FILE\n",
    ")\n",
    "\n",
    "try:\n",
    "    service = build('sheets', 'v4', credentials=creds)\n",
    "\n",
    "    # Call the Sheets API\n",
    "    sheet = service.spreadsheets()\n",
    "    result = sheet.values().get(spreadsheetId=SAMPLE_SPREADSHEET_ID,\n",
    "                                range=SAMPLE_RANGE_NAME).execute()\n",
    "    values = result.get('values', [])\n",
    "\n",
    "    if not values:\n",
    "        print('No data found.')\n",
    "    else:\n",
    "        headers = values[0]\n",
    "        data = values[1:]\n",
    "        df = pd.DataFrame(data, columns=headers)\n",
    "\n",
    "        # Save the DataFrame to a local file\n",
    "        local_file_path = 'urgo_aesthetic_academy_edition_2.xlsx'\n",
    "        df.to_excel(local_file_path, index=False)\n",
    "\n",
    "        # Move the file to the remote directory\n",
    "        remote_file_path = os.path.join(remote_dir, local_file_path)\n",
    "        shutil.move(local_file_path, remote_file_path)\n",
    "\n",
    "        print('Saved DataFrame on the remote server')\n",
    "except HttpError as err:\n",
    "    print(err)\n"
   ]
  }
 ],
 "metadata": {
  "kernelspec": {
   "display_name": "Python 3",
   "language": "python",
   "name": "python3"
  },
  "language_info": {
   "codemirror_mode": {
    "name": "ipython",
    "version": 3
   },
   "file_extension": ".py",
   "mimetype": "text/x-python",
   "name": "python",
   "nbconvert_exporter": "python",
   "pygments_lexer": "ipython3",
   "version": "3.11.3"
  },
  "orig_nbformat": 4
 },
 "nbformat": 4,
 "nbformat_minor": 2
}
