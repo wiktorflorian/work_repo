{
 "cells": [
  {
   "attachments": {},
   "cell_type": "markdown",
   "metadata": {},
   "source": [
    "# Google Sheets API"
   ]
  },
  {
   "attachments": {},
   "cell_type": "markdown",
   "metadata": {},
   "source": [
    "Project involving the Google Sheets API to save data from a Sheets file that is integrated with Forms."
   ]
  },
  {
   "cell_type": "code",
   "execution_count": 1,
   "metadata": {},
   "outputs": [],
   "source": [
    "# importing necessary libraries and packages\n",
    "from __future__ import print_function\n",
    "\n",
    "import configparser\n",
    "import os\n",
    "import shutil\n",
    "\n",
    "from google.auth.transport.requests import Request\n",
    "from google.oauth2.credentials import Credentials\n",
    "from google_auth_oauthlib.flow import InstalledAppFlow\n",
    "from googleapiclient.discovery import build\n",
    "from googleapiclient.errors import HttpError\n",
    "\n",
    "import pandas as pd"
   ]
  },
  {
   "cell_type": "code",
   "execution_count": null,
   "metadata": {},
   "outputs": [],
   "source": [
    "# Variables\n",
    "# If modifying these scopes, delete the file token.json.\n",
    "SCOPES = ['https://www.googleapis.com/auth/spreadsheets.readonly']\n",
    "\n",
    "# Create a ConfigParser object\n",
    "config = configparser.ConfigParser()\n",
    "\n",
    "# Read the configuration file\n",
    "config.read('config.txt')\n",
    "\n",
    "# Get the values from the config file\n",
    "SAMPLE_SPREADSHEET_ID = config.get('SHEET_CONFIG', \"SAMPLE_SPREADSHEET_ID\")\n",
    "SAMPLE_RANGE_NAME = config.get('SHEET_CONFIG', 'SAMPLE_RANGE_NAME')\n",
    "\n",
    "\n",
    "# Read the remote directory path from the text file\n",
    "with open('remote_dir.txt', 'r') as file:\n",
    "    remote_dir= file.read().strip()\n"
   ]
  },
  {
   "cell_type": "code",
   "execution_count": null,
   "metadata": {},
   "outputs": [
    {
     "name": "stdout",
     "output_type": "stream",
     "text": [
      "Saved DataFrame as on the remote server\n"
     ]
    }
   ],
   "source": [
    "creds = None\n",
    "# The file token.json stores the user's access and refresh tokens, and is\n",
    "# created automatically when the authorization flow completes for the first time\n",
    "if os.path.exists('token.json'):\n",
    "    creds = Credentials.from_authorized_user_file('token.json', SCOPES)\n",
    "# If there are no (valid) credentials available, let the user log in.\n",
    "if not creds or not creds.valid:\n",
    "    if creds and creds.expired and creds.refresh_token:\n",
    "        creds.refresh(Request())\n",
    "    else:\n",
    "        flow = InstalledAppFlow.from_client_secrets_file(\n",
    "            'credentials.json', SCOPES)\n",
    "        creds = flow.run_local_server(port=0)\n",
    "    # Save the credentials for the next run\n",
    "    with open('token.json', 'w') as token:\n",
    "        token.write(creds.to_json())\n",
    "    \n",
    "try:\n",
    "    service = build('sheets', 'v4', credentials=creds)\n",
    "\n",
    "    # Call the Sheets API\n",
    "    sheet = service.spreadsheets()\n",
    "    result = sheet.values().get(spreadsheetId=SAMPLE_SPREADSHEET_ID,\n",
    "                                range=SAMPLE_RANGE_NAME).execute()\n",
    "    values = result.get('values', [])\n",
    "\n",
    "    if not values:\n",
    "        print('No data found.')\n",
    "    \n",
    "    else:\n",
    "        headers = values[0]\n",
    "        data = values[1:]\n",
    "        df = pd.DataFrame(data, columns=headers)\n",
    "        \n",
    "        # Save the DataFrame to a local file\n",
    "        local_file_path = 'urgo_aesthetic_academy.xlsx'\n",
    "        df.to_excel(local_file_path, index=False)\n",
    "\n",
    "        # Move the file to the remote directory\n",
    "        remote_file_path = os.path.join(remote_dir, local_file_path)\n",
    "        shutil.move(local_file_path, remote_file_path)\n",
    "\n",
    "        print(f'Saved DataFrame as on the remote server')\n",
    "except HttpError as err:\n",
    "    print(err)\n",
    "\n"
   ]
  }
 ],
 "metadata": {
  "kernelspec": {
   "display_name": "Python 3",
   "language": "python",
   "name": "python3"
  },
  "language_info": {
   "codemirror_mode": {
    "name": "ipython",
    "version": 3
   },
   "file_extension": ".py",
   "mimetype": "text/x-python",
   "name": "python",
   "nbconvert_exporter": "python",
   "pygments_lexer": "ipython3",
   "version": "3.11.3"
  },
  "orig_nbformat": 4
 },
 "nbformat": 4,
 "nbformat_minor": 2
}
