{
 "cells": [
  {
   "attachments": {},
   "cell_type": "markdown",
   "metadata": {},
   "source": [
    "https://pypi.org/project/requests-oauth2client/ -- Check for oaut2client documentation\n"
   ]
  },
  {
   "cell_type": "code",
   "execution_count": 105,
   "metadata": {},
   "outputs": [],
   "source": [
    "from requests_oauth2client import *\n",
    "import credentials as c\n",
    "import json\n",
    "import math\n",
    "import pandas as pd\n",
    "\n",
    "token_endpoint = c.token_endpoint\n",
    "client_id = c.client_id\n",
    "client_secret = c.client_secret\n",
    "api_url = c.api_url\n",
    "scope = c.scope\n",
    "\n",
    "oauth2client = OAuth2Client(\n",
    "    token_endpoint=token_endpoint,\n",
    "    auth=(client_id, client_secret),\n",
    ")\n",
    "\n",
    "auth = OAuth2ClientCredentialsAuth(\n",
    "    oauth2client, scope=scope, resource=api_url\n",
    ")\n",
    "\n",
    "api = ApiClient(\n",
    "    api_url, auth=auth\n",
    ")"
   ]
  },
  {
   "cell_type": "code",
   "execution_count": 106,
   "metadata": {},
   "outputs": [],
   "source": [
    "resp_cl = api.get(\"/clients\")\n",
    "\n",
    "# Decode the response content and parse the JSON data\n",
    "response_cl_data = resp_cl.content.decode('utf-8')\n",
    "\n",
    "cl_data = json.loads(response_cl_data)\n",
    "\n",
    "total_count = cl_data['data']['info']['count']\n",
    "per_page = cl_data['data']['info']['per_page']\n",
    "current_page = cl_data['data']['info']['page']\n",
    "\n",
    "num_pages = math.ceil(total_count / per_page)\n",
    "\n",
    "\n",
    "# List to store all the client records\n",
    "clients= []\n",
    "\n",
    "for page in range(1, num_pages + 1):\n",
    "    resp_cl = api.get(f\"/clients?page={page}\")\n",
    "    response_cl_data = resp_cl.content.decode('utf-8')\n",
    "    page_data = json.loads(response_cl_data)\n",
    "    if page_data['data'] is not None:\n",
    "        #clients_records.update(page_data['data'])\n",
    "        for client in page_data['data']['clients']:\n",
    "            if client['group'] is not None:\n",
    "                group_name = client['group']['name']\n",
    "            else:\n",
    "                group_name = None\n",
    "\n",
    "            client_info = [\n",
    "                client['number'],\n",
    "                client['email'],\n",
    "                client['name'],\n",
    "                client['surname'],\n",
    "                client['phone'],\n",
    "                client['company'],\n",
    "                client['nip'],\n",
    "                group_name,\n",
    "                client['additional']['1'],\n",
    "                client['additional']['2'],\n",
    "                client['additional']['3']\n",
    "            ]\n",
    "            clients.append(client_info)\n",
    "\n",
    "# Creating customer id which are used inside of org\n",
    "for client in clients:\n",
    "    client[0] = 'BB_' + client[0]"
   ]
  },
  {
   "cell_type": "code",
   "execution_count": 112,
   "metadata": {},
   "outputs": [],
   "source": [
    "columns = ['client_id', 'client_email', 'client_name', 'client_surname', 'client_phone', 'company', 'client_nip', 'account_name', 'salesrep', 'products', 'delivery']\n",
    "df = pd.DataFrame(clients)\n",
    "df.columns = columns\n",
    "df.to_excel('output/sellout_clients.xlsx', index=False)"
   ]
  },
  {
   "cell_type": "code",
   "execution_count": null,
   "metadata": {},
   "outputs": [],
   "source": []
  }
 ],
 "metadata": {
  "kernelspec": {
   "display_name": "Python 3",
   "language": "python",
   "name": "python3"
  },
  "language_info": {
   "codemirror_mode": {
    "name": "ipython",
    "version": 3
   },
   "file_extension": ".py",
   "mimetype": "text/x-python",
   "name": "python",
   "nbconvert_exporter": "python",
   "pygments_lexer": "ipython3",
   "version": "3.11.3"
  },
  "orig_nbformat": 4
 },
 "nbformat": 4,
 "nbformat_minor": 2
}
