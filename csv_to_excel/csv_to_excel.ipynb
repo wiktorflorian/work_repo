{
 "cells": [
  {
   "attachments": {},
   "cell_type": "markdown",
   "metadata": {},
   "source": [
    "# CSV TO EXCEL CONVENTER\n",
    "\n",
    "**The CSV to Excel Conventer** project was conceived as a solution to address the challenges faced when working with .csv files containing incorrect Polish characters. It was observed that one of the contractors consistently sent .csv files with improperly saved Polish characters, which had to be manually corrected using Excel's find and replace function. Additionally, product names often posed problems due to the presence of commas or other characters.\n",
    "\n",
    "The primary objective of this project is to automate the conversion of .csv files to .xlsx format while preserving the orginal data structure. By implementing this converter, the need for manual intervention to correct Polish characters and handle product name issues will be eliminated. Futhermore, the converter will ensure the seamless transfer of data from .csv files to .xlsx files, facilitating more efficient data management.\n"
   ]
  },
  {
   "cell_type": "code",
   "execution_count": 9,
   "metadata": {},
   "outputs": [],
   "source": [
    "import os\n",
    "import csv\n",
    "from openpyxl import Workbook\n",
    "\n",
    "def csv_to_excel(csv_file, excel_file, delimiter=';', replacements=None, encoding='latin-1', sheet_name=None):\n",
    "    # Open the CSV file\n",
    "    with open(csv_file, 'r', newline='', encoding=encoding) as file:\n",
    "        # CSV reader with specified delimiter\n",
    "        csv_reader = csv.reader(file, delimiter=delimiter)\n",
    "\n",
    "        # New Excel workbook\n",
    "        wb = Workbook()\n",
    "        \n",
    "        # Select the activate sheet\n",
    "        sheet = wb.active\n",
    "\n",
    "        # Iterate over each row in the CSV\n",
    "        for row_id, row in enumerate(csv_reader, start=1):\n",
    "            # Iterate over each value in the row\n",
    "            for col_id, val in enumerate(row, start=1):\n",
    "                # Check if replacements dictionary is provided\n",
    "                if replacements is not None:\n",
    "                    # Iterate over each key-value pair in the replacements dictionary\n",
    "                    for old_char, new_char in replacements.items():\n",
    "                        # Replace occurrences of old_char with new_char in the CSV values\n",
    "                        val = val.replace(old_char, new_char)\n",
    "\n",
    "                # Clean words from whitespaces\n",
    "                words = val.split()\n",
    "                clean_words = [word.strip() for word in words]\n",
    "                clean_val = ' '.join(clean_words)\n",
    "                # Write the updated value to the corresponding cell in the Excel file\n",
    "                sheet.cell(row=row_id, column=col_id, value=clean_val)\n",
    "    \n",
    "    # Set sheet name to the filename if not provided\n",
    "    if sheet_name is None:\n",
    "        sheet_name = os.path.splitext(os.path.basename(csv_file))[0]\n",
    "\n",
    "    # Rename the activate sheet to the desired name\n",
    "    sheet.title = sheet_name\n",
    "\n",
    "    # Save the Excel file\n",
    "    wb.save(excel_file)\n",
    "    print(f\"CSV file {csv_file} successfully converted to Excel file {excel_file}\")\n"
   ]
  },
  {
   "cell_type": "code",
   "execution_count": 10,
   "metadata": {},
   "outputs": [
    {
     "name": "stdout",
     "output_type": "stream",
     "text": [
      "CSV file C:\\Users\\floriw\\Downloads\\NKR\\downloads\\Raport_NKR_214042023SPH.csv successfully converted to Excel file C:\\Users\\floriw\\Downloads\\NKR\\downloads\\Raport_NKR_214042023SPH.xlsx\n",
      "CSV file C:\\Users\\floriw\\Downloads\\NKR\\downloads\\Raport_NKR_215042023SPH.csv successfully converted to Excel file C:\\Users\\floriw\\Downloads\\NKR\\downloads\\Raport_NKR_215042023SPH.xlsx\n",
      "CSV file C:\\Users\\floriw\\Downloads\\NKR\\downloads\\Raport_NKR_246052023SPH.csv successfully converted to Excel file C:\\Users\\floriw\\Downloads\\NKR\\downloads\\Raport_NKR_246052023SPH.xlsx\n",
      "CSV file C:\\Users\\floriw\\Downloads\\NKR\\downloads\\Raport_NKR_247052023SPH.csv successfully converted to Excel file C:\\Users\\floriw\\Downloads\\NKR\\downloads\\Raport_NKR_247052023SPH.xlsx\n",
      "CSV file C:\\Users\\floriw\\Downloads\\NKR\\downloads\\Raport_NKR_248052023SPH.csv successfully converted to Excel file C:\\Users\\floriw\\Downloads\\NKR\\downloads\\Raport_NKR_248052023SPH.xlsx\n",
      "CSV file C:\\Users\\floriw\\Downloads\\NKR\\downloads\\Raport_NKR_249052023SPH.csv successfully converted to Excel file C:\\Users\\floriw\\Downloads\\NKR\\downloads\\Raport_NKR_249052023SPH.xlsx\n",
      "CSV file C:\\Users\\floriw\\Downloads\\NKR\\downloads\\Raport_NKR_397052023SPH.csv successfully converted to Excel file C:\\Users\\floriw\\Downloads\\NKR\\downloads\\Raport_NKR_397052023SPH.xlsx\n",
      "CSV file C:\\Users\\floriw\\Downloads\\NKR\\downloads\\Raport_NKR_398052023SPH.csv successfully converted to Excel file C:\\Users\\floriw\\Downloads\\NKR\\downloads\\Raport_NKR_398052023SPH.xlsx\n"
     ]
    }
   ],
   "source": [
    "# Directory path\n",
    "directory = \"C:\\\\Users\\\\floriw\\\\Downloads\\\\NKR\\\\downloads\"\n",
    "\n",
    "# Character replacements dictionary\n",
    "replacements = {\"³\": \"ł\", \"¿\": \"ż\", \"£\": \"Ł\", \"œ\": \"ś\", \"æ\": \"ć\", \"¹\": \"ą\", \"ê\": \"ę\", \"ñ\": \"ń\", \"¯\": \"ż\"}\n",
    "\n",
    "# Looping throught files in the directory\n",
    "for filename in os.listdir(directory):\n",
    "    if filename.endswith(\".csv\"):\n",
    "        csv_file_path = os.path.join(directory, filename)\n",
    "        excel_file_path = os.path.join(directory, filename[:-4] + \".xlsx\")\n",
    "\n",
    "        csv_to_excel(csv_file_path, excel_file_path, delimiter=';', replacements=replacements, encoding='cp1252')"
   ]
  }
 ],
 "metadata": {
  "kernelspec": {
   "display_name": "Python 3",
   "language": "python",
   "name": "python3"
  },
  "language_info": {
   "codemirror_mode": {
    "name": "ipython",
    "version": 3
   },
   "file_extension": ".py",
   "mimetype": "text/x-python",
   "name": "python",
   "nbconvert_exporter": "python",
   "pygments_lexer": "ipython3",
   "version": "3.11.3"
  },
  "orig_nbformat": 4
 },
 "nbformat": 4,
 "nbformat_minor": 2
}
